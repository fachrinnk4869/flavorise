{
 "cells": [
  {
   "cell_type": "code",
   "execution_count": 1,
   "id": "b4ade16c",
   "metadata": {},
   "outputs": [
    {
     "name": "stderr",
     "output_type": "stream",
     "text": [
      "/home/fachri/resep-pintar/.venv/lib/python3.10/site-packages/tqdm/auto.py:21: TqdmWarning: IProgress not found. Please update jupyter and ipywidgets. See https://ipywidgets.readthedocs.io/en/stable/user_install.html\n",
      "  from .autonotebook import tqdm as notebook_tqdm\n"
     ]
    }
   ],
   "source": [
    "import unittest\n",
    "from sentence_transformers import SentenceTransformer\n",
    "from rag import embed_rag\n",
    "from algorithm import matching_algorithm\n",
    "import json"
   ]
  },
  {
   "cell_type": "markdown",
   "id": "5fa9abc5",
   "metadata": {},
   "source": [
    "## Declaration"
   ]
  },
  {
   "cell_type": "code",
   "execution_count": 2,
   "id": "692d843b",
   "metadata": {},
   "outputs": [],
   "source": [
    "embed_dim = 384  # for MiniLM-L12-v2\n",
    "# multilingual lm\n",
    "embeding_model = SentenceTransformer(\n",
    "    'sentence-transformers/paraphrase-multilingual-MiniLM-L12-v2')\n",
    "# import recipes from json file\n",
    "top_k = 10\n",
    "json_file_path = './data/raw/cookpad_recipe_ayam.json'\n",
    "with open(json_file_path, 'r', encoding='utf-8') as f:\n",
    "    recipes = json.load(f)"
   ]
  },
  {
   "cell_type": "code",
   "execution_count": 3,
   "id": "d022bddd",
   "metadata": {},
   "outputs": [
    {
     "name": "stdout",
     "output_type": "stream",
     "text": [
      "test embed recipes (10, 384)\n"
     ]
    }
   ],
   "source": [
    "recipes = recipes[:10]\n",
    "recipe_texts = [\n",
    "    recipe['title'] + ' ' +\n",
    "    \" \".join(recipe['ingredients']) + ' ' +\n",
    "    \" \".join(step['text'] for step in recipe[\"steps\"])\n",
    "    for recipe in recipes\n",
    "]\n",
    "embeddings = embeding_model.encode(recipe_texts)\n",
    "print(\"test embed recipes\", embeddings.shape)"
   ]
  },
  {
   "cell_type": "code",
   "execution_count": 4,
   "id": "5fc54b49",
   "metadata": {},
   "outputs": [
    {
     "data": {
      "text/plain": [
       "array([[-0.11901397, -0.0949651 ,  0.08674426, ...,  0.13223359,\n",
       "         0.27163774, -0.09754443],\n",
       "       [ 0.0968091 ,  0.11048147,  0.05694484, ..., -0.00428091,\n",
       "         0.10568769, -0.07021818],\n",
       "       [ 0.07361859, -0.01513905,  0.07011578, ...,  0.03816275,\n",
       "         0.19945344,  0.01410835],\n",
       "       ...,\n",
       "       [ 0.06101205,  0.07363529,  0.06166223, ...,  0.14631297,\n",
       "         0.22188115,  0.06272151],\n",
       "       [ 0.12363438,  0.05425766,  0.05966412, ...,  0.09552623,\n",
       "         0.18661752, -0.08534338],\n",
       "       [ 0.09856094, -0.00779507,  0.05609968, ...,  0.1521916 ,\n",
       "        -0.0293845 ,  0.01670752]], shape=(10, 384), dtype=float32)"
      ]
     },
     "execution_count": 4,
     "metadata": {},
     "output_type": "execute_result"
    }
   ],
   "source": [
    "embeddings"
   ]
  },
  {
   "cell_type": "markdown",
   "id": "d0103ee7",
   "metadata": {},
   "source": [
    "## Development Algorithm Matching"
   ]
  },
  {
   "cell_type": "code",
   "execution_count": null,
   "id": "274b22f5",
   "metadata": {},
   "outputs": [],
   "source": [
    "import numpy as np\n",
    "# from sklearn.metrics.pairwise import cosine_similarity\n",
    "\n",
    "# --------------------------\n",
    "# Helper functions\n",
    "# --------------------------\n",
    "\n",
    "\n",
    "def cosine_similarity(a, b):\n",
    "    return np.dot(a, b) / (np.linalg.norm(a) * np.linalg.norm(b))\n",
    "\n",
    "def update_user_pref(user_pref, item_embedding, rating, lr=0.5):\n",
    "    \"\"\"Update preferensi user berdasarkan rating (0-1).\"\"\"\n",
    "    # print(item_embedding)\n",
    "    # print(user_pref)\n",
    "    return user_pref + lr * rating * (item_embedding - user_pref)\n",
    "\n",
    "def mmr_rerank(user_pref, candidates, lambd=0.7, top_k=1, selected=[]):\n",
    "    \"\"\"Maximal Marginal Relevance Reranking.\"\"\"\n",
    "    bests = []\n",
    "    while len(bests) < top_k and candidates:\n",
    "        scores = []\n",
    "        for name, emb in candidates:\n",
    "            sim_to_user = cosine_similarity(user_pref, emb)\n",
    "            sim_to_selected = max([cosine_similarity(emb, s[1]) for s in selected], default=0)\n",
    "            score = lambd * sim_to_user - (1 - lambd) * sim_to_selected\n",
    "            scores.append((score, (name, emb)))\n",
    "        scores.sort(key=lambda x: x[0], reverse=True)\n",
    "        best = scores[0][1]\n",
    "        selected.append(best)\n",
    "        bests.append(best)\n",
    "        candidates.remove(best)\n",
    "    return bests"
   ]
  },
  {
   "cell_type": "code",
   "execution_count": null,
   "id": "a1c049f0",
   "metadata": {},
   "outputs": [
    {
     "name": "stdout",
     "output_type": "stream",
     "text": [
      "\n",
      "Iterasi 1\n",
      "1. ayam_2\n",
      "\n",
      "Iterasi 2\n",
      "1. ayam_0\n",
      "\n",
      "Iterasi 3\n",
      "1. ayam_6\n",
      "\n",
      "Iterasi 4\n",
      "1. ayam_5\n",
      "\n",
      "Iterasi 5\n",
      "1. ayam_3\n"
     ]
    }
   ],
   "source": [
    "# --------------------------\n",
    "# Simulasi\n",
    "# --------------------------\n",
    "\n",
    "user_pref = embeddings[0]   # preferensi awal user\n",
    "imgs = {f\"ayam_{i}\": embedding for i, embedding in enumerate(embeddings[1:])}\n",
    "candidates = list(imgs.items())\n",
    "\n",
    "selected = []\n",
    "for step in range(5):  # iterasi 5x\n",
    "    # print(\"selected:\", selected)\n",
    "    reranked = mmr_rerank(user_pref, candidates, lambd=0.7, top_k=1, selected=selected)\n",
    "    print(f\"\\nIterasi {step+1}\")\n",
    "    for rank, (name, _) in enumerate(reranked, 1):\n",
    "        print(f\"{rank}. {name}\")\n",
    "\n",
    "    # hanya rating top-1\n",
    "    top1_name, top1_emb = reranked[0]\n",
    "    rating = float(input(f\"Berikan rating untuk {top1_name} (-5->5): \"))\n",
    "    user_pref = update_user_pref(user_pref, top1_emb, rating, lr=0.8)\n"
   ]
  },
  {
   "cell_type": "code",
   "execution_count": 60,
   "id": "fb32c4d2",
   "metadata": {},
   "outputs": [],
   "source": [
    "def rerank_ingredients(embed_all, embed_ingredients, lambd=0.7):\n",
    "    return embed_ingredients * lambd + embed_all * (1 - lambd)"
   ]
  },
  {
   "cell_type": "code",
   "execution_count": 62,
   "id": "be4245bc",
   "metadata": {},
   "outputs": [
    {
     "name": "stdout",
     "output_type": "stream",
     "text": [
      "test embed recipes (10, 384)\n"
     ]
    }
   ],
   "source": [
    "embeding_ingredients = embeding_model.encode(\n",
    "    [\" \".join(recipe['ingredients']) for recipe in recipes])\n",
    "\n",
    "print(\"test embed recipes\", embeding_ingredients.shape)"
   ]
  },
  {
   "cell_type": "code",
   "execution_count": 65,
   "id": "c138a887",
   "metadata": {},
   "outputs": [
    {
     "name": "stdout",
     "output_type": "stream",
     "text": [
      "\n",
      "Iterasi 1\n",
      "1. ayam_4\n",
      "\n",
      "Iterasi 2\n",
      "1. ayam_5\n",
      "\n",
      "Iterasi 3\n",
      "1. ayam_2\n",
      "\n",
      "Iterasi 4\n",
      "1. ayam_3\n",
      "\n",
      "Iterasi 5\n",
      "1. ayam_7\n"
     ]
    }
   ],
   "source": [
    "# --------------------------\n",
    "# Simulasi\n",
    "# --------------------------\n",
    "\n",
    "user_pref = embeddings[0]   # preferensi awal user\n",
    "imgs_all = {f\"ayam_{i}\": embedding for i, embedding in enumerate(embeddings[1:])}\n",
    "imgs_ingredients = {f\"ayam_{i}\": embedding for i, embedding in enumerate(embeding_ingredients[1:])}\n",
    "imgs = {name: rerank_ingredients(imgs_all[name], imgs_ingredients[name], lambd=0.7) for name in imgs_all}\n",
    "candidates = list(imgs.items())\n",
    "\n",
    "selected = []\n",
    "for step in range(5):  # iterasi 5x\n",
    "    # print(\"selected:\", selected)\n",
    "    reranked = mmr_rerank(user_pref, candidates, lambd=0.7, top_k=1, selected=selected)\n",
    "\n",
    "    # hanya rating top-1\n",
    "    top1_name, top1_emb = reranked[0]\n",
    "    print(f\"\\nIterasi {step+1}\")\n",
    "    for rank, (name, _) in enumerate(reranked, 1):\n",
    "        print(f\"{rank}. {name}\")\n",
    "    rating = float(input(f\"Berikan rating untuk {top1_name} (-5->5): \"))\n",
    "    user_pref = update_user_pref(user_pref, top1_emb, rating, lr=0.8)\n"
   ]
  }
 ],
 "metadata": {
  "kernelspec": {
   "display_name": ".venv",
   "language": "python",
   "name": "python3"
  },
  "language_info": {
   "codemirror_mode": {
    "name": "ipython",
    "version": 3
   },
   "file_extension": ".py",
   "mimetype": "text/x-python",
   "name": "python",
   "nbconvert_exporter": "python",
   "pygments_lexer": "ipython3",
   "version": "3.10.12"
  }
 },
 "nbformat": 4,
 "nbformat_minor": 5
}
