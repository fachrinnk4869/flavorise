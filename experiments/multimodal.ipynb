{
 "cells": [
  {
   "cell_type": "code",
   "execution_count": null,
   "id": "596c13db",
   "metadata": {},
   "outputs": [
    {
     "name": "stdout",
     "output_type": "stream",
     "text": [
      "Gambar tersebut menampilkan berbagai bahan makanan yang ditempatkan di atas meja. Bahan-bahan tersebut meliputi:\n",
      "\n",
      "1. Tepung terigu dalam wadah plastik bening di latar depan.\n",
      "2. Dua butir telur di sebelah kanan wadah tepung.\n",
      "3. Gula pasir dalam stoples kaca di belakang telur.\n",
      "4. Kaldu rasa jamur dalam kemasan di sebelah kanan stoples gula.\n",
      "5. Minyak sayur atau cairan bening lainnya dalam wadah plastik bening di sebelah kanan kaldu.\n",
      "6. Maizena dalam kemasan kuning di sebelah kiri stoples gula.\n",
      "7. Minyak atau cairan lainnya dalam botol kaca di sebelah kiri maizena.\n",
      "\n",
      "Bahan-bahan ini tampaknya disiapkan untuk membuat suatu hidangan atau kue.\n"
     ]
    }
   ],
   "source": [
    "\n",
    "from together import Together\n",
    "from dotenv import load_dotenv\n",
    "load_dotenv(\"../.env\")\n",
    "client = Together()\n",
    "\n",
    "response = client.chat.completions.create(\n",
    "  model=\"meta-llama/Llama-4-Maverick-17B-128E-Instruct-FP8\",\n",
    "  messages=[{\n",
    "      \"role\": \"user\",\n",
    "      \"content\": [\n",
    "          {\"type\": \"text\", \"text\": \"Apa saja yang ada di gambar itu?\"},\n",
    "          {\"type\": \"image_url\", \"image_url\": {\"url\": \"https://img-global.cpcdn.com/steps/1284d8b1c429fa1a/400x400cq80/photo.jpg\"}}\n",
    "      ]\n",
    "  }]\n",
    ")\n",
    "\n",
    "print(response.choices[0].message.content)\n",
    "\n"
   ]
  },
  {
   "cell_type": "code",
   "execution_count": 2,
   "id": "e86fc63d",
   "metadata": {},
   "outputs": [
    {
     "name": "stdout",
     "output_type": "stream",
     "text": [
      "tepung terigu, telur, kaldu jamur, maizena, gula pasir, daun bawang.\n"
     ]
    }
   ],
   "source": [
    "response = client.chat.completions.create(\n",
    "  model=\"meta-llama/Llama-4-Maverick-17B-128E-Instruct-FP8\",\n",
    "  messages=[{\n",
    "      \"role\": \"user\",\n",
    "      \"content\": [\n",
    "          {\"type\": \"text\", \"text\": \"Apa saja yang ada di gambar itu? sebutkan saja bahan makanan nya, dipisah oleh koma. Jangan tambahkan penjelasan apapun selain daftar bahan makanannya.\"},\n",
    "          {\"type\": \"image_url\", \"image_url\": {\"url\": \"https://img-global.cpcdn.com/steps/1284d8b1c429fa1a/400x400cq80/photo.jpg\"}}\n",
    "      ]\n",
    "  }]\n",
    ")\n",
    "print(response.choices[0].message.content)"
   ]
  }
 ],
 "metadata": {
  "kernelspec": {
   "display_name": ".venv",
   "language": "python",
   "name": "python3"
  },
  "language_info": {
   "codemirror_mode": {
    "name": "ipython",
    "version": 3
   },
   "file_extension": ".py",
   "mimetype": "text/x-python",
   "name": "python",
   "nbconvert_exporter": "python",
   "pygments_lexer": "ipython3",
   "version": "3.10.12"
  }
 },
 "nbformat": 4,
 "nbformat_minor": 5
}
